{
 "cells": [
  {
   "cell_type": "code",
   "execution_count": null,
   "metadata": {
    "_cell_guid": "b1076dfc-b9ad-4769-8c92-a6c4dae69d19",
    "_uuid": "8f2839f25d086af736a60e9eeb907d3b93b6e0e5",
    "execution": {
     "iopub.execute_input": "2023-01-06T17:32:01.901262Z",
     "iopub.status.busy": "2023-01-06T17:32:01.900692Z",
     "iopub.status.idle": "2023-01-06T17:32:02.496889Z",
     "shell.execute_reply": "2023-01-06T17:32:02.495590Z",
     "shell.execute_reply.started": "2023-01-06T17:32:01.901141Z"
    }
   },
   "outputs": [],
   "source": [
    "import numpy as np # linear algebra\n",
    "import pandas as pd # data processing, CSV file I/O (e.g. pd.read_csv)\n",
    "from sklearn.ensemble import RandomForestClassifier"
   ]
  },
  {
   "cell_type": "code",
   "execution_count": null,
   "metadata": {
    "execution": {
     "iopub.execute_input": "2023-01-06T17:32:02.499787Z",
     "iopub.status.busy": "2023-01-06T17:32:02.498926Z",
     "iopub.status.idle": "2023-01-06T17:32:02.511703Z",
     "shell.execute_reply": "2023-01-06T17:32:02.510209Z",
     "shell.execute_reply.started": "2023-01-06T17:32:02.499729Z"
    }
   },
   "outputs": [],
   "source": [
    "import os\n",
    "for dirname, _, filenames in os.walk('/kaggle/input'):\n",
    "    for filename in filenames:\n",
    "        print(os.path.join(dirname, filename))"
   ]
  },
  {
   "cell_type": "code",
   "execution_count": null,
   "metadata": {
    "execution": {
     "iopub.execute_input": "2023-01-06T17:32:02.513659Z",
     "iopub.status.busy": "2023-01-06T17:32:02.513100Z",
     "iopub.status.idle": "2023-01-06T17:32:02.546744Z",
     "shell.execute_reply": "2023-01-06T17:32:02.545381Z",
     "shell.execute_reply.started": "2023-01-06T17:32:02.513621Z"
    }
   },
   "outputs": [],
   "source": [
    "# Load train data\n",
    "train_data = pd.read_csv(\"/kaggle/input/titanic/train.csv\")\n",
    "train_data.head()"
   ]
  },
  {
   "cell_type": "code",
   "execution_count": null,
   "metadata": {
    "execution": {
     "iopub.execute_input": "2023-01-06T17:32:02.548566Z",
     "iopub.status.busy": "2023-01-06T17:32:02.548219Z",
     "iopub.status.idle": "2023-01-06T17:32:02.571268Z",
     "shell.execute_reply": "2023-01-06T17:32:02.569851Z",
     "shell.execute_reply.started": "2023-01-06T17:32:02.548535Z"
    }
   },
   "outputs": [],
   "source": [
    "# Load test data\n",
    "test_data = pd.read_csv(\"/kaggle/input/titanic/test.csv\")\n",
    "test_data.head()"
   ]
  },
  {
   "cell_type": "code",
   "execution_count": null,
   "metadata": {
    "execution": {
     "iopub.execute_input": "2023-01-06T17:32:02.575926Z",
     "iopub.status.busy": "2023-01-06T17:32:02.575222Z",
     "iopub.status.idle": "2023-01-06T17:32:02.587837Z",
     "shell.execute_reply": "2023-01-06T17:32:02.586512Z",
     "shell.execute_reply.started": "2023-01-06T17:32:02.575863Z"
    }
   },
   "outputs": [],
   "source": [
    "# Check dummy model based on gender only\n",
    "women = train_data.loc[train_data.Sex == 'female'][\"Survived\"]\n",
    "rate_women = sum(women)/len(women)\n",
    "men = train_data.loc[train_data.Sex == 'male'][\"Survived\"]\n",
    "rate_men = sum(men)/len(men)\n",
    "\n",
    "print(\"% of women who survived:\", rate_women)\n",
    "print(\"% of men who survived:\", rate_men)"
   ]
  },
  {
   "cell_type": "code",
   "execution_count": null,
   "metadata": {
    "execution": {
     "iopub.execute_input": "2023-01-06T17:32:02.589514Z",
     "iopub.status.busy": "2023-01-06T17:32:02.589075Z",
     "iopub.status.idle": "2023-01-06T17:32:02.596424Z",
     "shell.execute_reply": "2023-01-06T17:32:02.595030Z",
     "shell.execute_reply.started": "2023-01-06T17:32:02.589480Z"
    }
   },
   "outputs": [],
   "source": [
    "# Random Forest model prediction\n",
    "y = train_data[\"Survived\"]\n",
    "features = [\"Pclass\", \"Sex\", \"SibSp\", \"Parch\"]"
   ]
  },
  {
   "cell_type": "code",
   "execution_count": null,
   "metadata": {
    "execution": {
     "iopub.execute_input": "2023-01-06T17:32:02.598300Z",
     "iopub.status.busy": "2023-01-06T17:32:02.597903Z",
     "iopub.status.idle": "2023-01-06T17:32:02.619789Z",
     "shell.execute_reply": "2023-01-06T17:32:02.618685Z",
     "shell.execute_reply.started": "2023-01-06T17:32:02.598250Z"
    }
   },
   "outputs": [],
   "source": [
    "# Some of the features are string, needs to be converted to one hot encoding\n",
    "X = pd.get_dummies(train_data[features])\n",
    "# or X = pd.get_dummies(train_data[features].fillna(-1)) to replace the NaN with -1\n",
    "X_test = pd.get_dummies(test_data[features])"
   ]
  },
  {
   "cell_type": "code",
   "execution_count": null,
   "metadata": {
    "execution": {
     "iopub.execute_input": "2023-01-06T17:32:02.621498Z",
     "iopub.status.busy": "2023-01-06T17:32:02.621151Z",
     "iopub.status.idle": "2023-01-06T17:32:02.798149Z",
     "shell.execute_reply": "2023-01-06T17:32:02.796963Z",
     "shell.execute_reply.started": "2023-01-06T17:32:02.621468Z"
    }
   },
   "outputs": [],
   "source": [
    "model = RandomForestClassifier(n_estimators=100, max_depth=5, random_state=1)\n",
    "model.fit(X, y)"
   ]
  },
  {
   "cell_type": "code",
   "execution_count": null,
   "metadata": {
    "execution": {
     "iopub.execute_input": "2023-01-06T17:32:31.387281Z",
     "iopub.status.busy": "2023-01-06T17:32:31.386834Z",
     "iopub.status.idle": "2023-01-06T17:32:31.418114Z",
     "shell.execute_reply": "2023-01-06T17:32:31.417110Z",
     "shell.execute_reply.started": "2023-01-06T17:32:31.387243Z"
    }
   },
   "outputs": [],
   "source": [
    "predictions = model.predict(X_test)\n",
    "\n",
    "output = pd.DataFrame({'PassengerId': test_data.PassengerId, 'Survived': predictions})\n",
    "output.to_csv('submission.csv', index=False)"
   ]
  }
 ],
 "metadata": {
  "kernelspec": {
   "display_name": "Python 3 (ipykernel)",
   "language": "python",
   "name": "python3"
  },
  "language_info": {
   "codemirror_mode": {
    "name": "ipython",
    "version": 3
   },
   "file_extension": ".py",
   "mimetype": "text/x-python",
   "name": "python",
   "nbconvert_exporter": "python",
   "pygments_lexer": "ipython3",
   "version": "3.7.9"
  }
 },
 "nbformat": 4,
 "nbformat_minor": 4
}
